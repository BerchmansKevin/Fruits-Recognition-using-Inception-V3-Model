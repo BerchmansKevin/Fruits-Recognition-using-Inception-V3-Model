{
 "cells": [
  {
   "cell_type": "markdown",
   "metadata": {
    "execution": {
     "iopub.execute_input": "2022-09-26T16:58:40.470942Z",
     "iopub.status.busy": "2022-09-26T16:58:40.470513Z",
     "iopub.status.idle": "2022-09-26T16:58:40.477371Z",
     "shell.execute_reply": "2022-09-26T16:58:40.475013Z",
     "shell.execute_reply.started": "2022-09-26T16:58:40.470912Z"
    }
   },
   "source": [
    "# **Import Libraries**"
   ]
  },
  {
   "cell_type": "code",
   "execution_count": 1,
   "metadata": {
    "_cell_guid": "b1076dfc-b9ad-4769-8c92-a6c4dae69d19",
    "_uuid": "8f2839f25d086af736a60e9eeb907d3b93b6e0e5",
    "execution": {
     "iopub.execute_input": "2022-09-26T17:04:13.730810Z",
     "iopub.status.busy": "2022-09-26T17:04:13.730373Z",
     "iopub.status.idle": "2022-09-26T17:04:19.849739Z",
     "shell.execute_reply": "2022-09-26T17:04:19.848751Z",
     "shell.execute_reply.started": "2022-09-26T17:04:13.730724Z"
    }
   },
   "outputs": [],
   "source": [
    "from tensorflow import keras\n",
    "from tensorflow.keras.applications.inception_v3 import InceptionV3\n",
    "from tensorflow.keras.preprocessing.image import ImageDataGenerator\n",
    "from tensorflow.keras.models import Sequential\n",
    "from tensorflow.keras.layers import Conv2D, Flatten, MaxPooling2D, Dense, Dropout, GlobalAveragePooling2D\n",
    "from tensorflow.keras import optimizers, losses\n",
    "from tensorflow.keras.callbacks import ModelCheckpoint\n",
    "from tensorflow.keras.preprocessing import image\n",
    "\n",
    "import pickle\n",
    "import numpy as np\n",
    "import matplotlib.pyplot as plt\n",
    "\n",
    "import warnings\n",
    "warnings.filterwarnings(\"ignore\")"
   ]
  },
  {
   "cell_type": "code",
   "execution_count": 2,
   "metadata": {
    "execution": {
     "iopub.execute_input": "2022-09-26T17:04:19.852354Z",
     "iopub.status.busy": "2022-09-26T17:04:19.851731Z",
     "iopub.status.idle": "2022-09-26T17:04:19.857465Z",
     "shell.execute_reply": "2022-09-26T17:04:19.856435Z",
     "shell.execute_reply.started": "2022-09-26T17:04:19.852317Z"
    }
   },
   "outputs": [],
   "source": [
    "# Base Path for all files\n",
    "data_dir = 'fruits-360/'"
   ]
  },
  {
   "cell_type": "markdown",
   "metadata": {},
   "source": [
    "# **Preparing Data**"
   ]
  },
  {
   "cell_type": "code",
   "execution_count": 3,
   "metadata": {
    "execution": {
     "iopub.execute_input": "2022-09-26T17:04:19.860092Z",
     "iopub.status.busy": "2022-09-26T17:04:19.859462Z",
     "iopub.status.idle": "2022-09-26T17:04:29.498037Z",
     "shell.execute_reply": "2022-09-26T17:04:29.496980Z",
     "shell.execute_reply.started": "2022-09-26T17:04:19.860042Z"
    }
   },
   "outputs": [
    {
     "name": "stdout",
     "output_type": "stream",
     "text": [
      "Found 60955 images belonging to 131 classes.\n",
      "Found 2209 images belonging to 131 classes.\n"
     ]
    }
   ],
   "source": [
    "# Using ImageDataGenerator to load the Images for Training and Testing the CNN Model\n",
    "datagenerator = {\n",
    "    \"train\": ImageDataGenerator(horizontal_flip=True,\n",
    "                                vertical_flip=True,\n",
    "                                rescale=1. / 255,\n",
    "                                validation_split=0.1,\n",
    "                                shear_range=0.1,\n",
    "                                zoom_range=0.1,\n",
    "                                width_shift_range=0.1,\n",
    "                                height_shift_range=0.1,\n",
    "                                rotation_range=30,\n",
    "                               ).flow_from_directory(directory=data_dir + \"Training\",\n",
    "                                                     target_size=(300, 300),\n",
    "                                                     subset='training',\n",
    "                                                    ),\n",
    "\n",
    "    \"valid\": ImageDataGenerator(rescale=1 / 255,\n",
    "                                validation_split=0.1,\n",
    "                               ).flow_from_directory(directory=data_dir + \"Test\",\n",
    "                                                     target_size=(300, 300),\n",
    "                                                     subset='validation',\n",
    "                                                    ),\n",
    "}"
   ]
  },
  {
   "cell_type": "markdown",
   "metadata": {},
   "source": [
    "# **Building Model Using InceptionV3**"
   ]
  },
  {
   "cell_type": "markdown",
   "metadata": {},
   "source": [
    "## **Initializing Base Model**"
   ]
  },
  {
   "cell_type": "code",
   "execution_count": 5,
   "metadata": {
    "execution": {
     "iopub.execute_input": "2022-09-26T17:04:29.501691Z",
     "iopub.status.busy": "2022-09-26T17:04:29.500705Z",
     "iopub.status.idle": "2022-09-26T17:04:36.262458Z",
     "shell.execute_reply": "2022-09-26T17:04:36.261490Z",
     "shell.execute_reply.started": "2022-09-26T17:04:29.501654Z"
    }
   },
   "outputs": [],
   "source": [
    "# Initializing InceptionV3 (pretrained) model with input image shape as (300, 300, 3)\n",
    "base_model = InceptionV3(weights=None, include_top=False, input_shape=(300, 300, 3))\n",
    "\n",
    "# Load Weights for the InceptionV3 Model\n",
    "base_model.load_weights(\"Models/inception_v3_weights_tf_dim_ordering_tf_kernels_notop.h5\")\n",
    "\n",
    "# Setting the Training of all layers of InceptionV3 model to false\n",
    "base_model.trainable = False"
   ]
  },
  {
   "cell_type": "markdown",
   "metadata": {},
   "source": [
    "# **Adding Layers at End**"
   ]
  },
  {
   "cell_type": "code",
   "execution_count": 6,
   "metadata": {
    "execution": {
     "iopub.execute_input": "2022-09-26T17:04:36.264337Z",
     "iopub.status.busy": "2022-09-26T17:04:36.263916Z",
     "iopub.status.idle": "2022-09-26T17:04:36.830948Z",
     "shell.execute_reply": "2022-09-26T17:04:36.829963Z",
     "shell.execute_reply.started": "2022-09-26T17:04:36.264302Z"
    }
   },
   "outputs": [],
   "source": [
    "# Adding some more layers at the end of the Model as per our requirement\n",
    "model = Sequential([\n",
    "    base_model,\n",
    "    GlobalAveragePooling2D(),\n",
    "    Dropout(0.15),\n",
    "    Dense(1024, activation='relu'),\n",
    "    Dense(131, activation='softmax') # 6 Output Neurons for 6 Classes\n",
    "])"
   ]
  },
  {
   "cell_type": "markdown",
   "metadata": {},
   "source": [
    "# **Adam Optimizer**"
   ]
  },
  {
   "cell_type": "code",
   "execution_count": 7,
   "metadata": {
    "execution": {
     "iopub.execute_input": "2022-09-26T17:04:36.832535Z",
     "iopub.status.busy": "2022-09-26T17:04:36.832200Z",
     "iopub.status.idle": "2022-09-26T17:04:36.851595Z",
     "shell.execute_reply": "2022-09-26T17:04:36.850782Z",
     "shell.execute_reply.started": "2022-09-26T17:04:36.832500Z"
    }
   },
   "outputs": [],
   "source": [
    "# Using the Adam Optimizer to set the learning rate of our final model\n",
    "opt = optimizers.Adam(learning_rate=0.0001)\n",
    "\n",
    "# Compiling and setting the parameters we want our model to use\n",
    "model.compile(loss=\"categorical_crossentropy\", optimizer=opt, metrics=['accuracy'])"
   ]
  },
  {
   "cell_type": "code",
   "execution_count": 8,
   "metadata": {
    "execution": {
     "iopub.execute_input": "2022-09-26T17:04:36.853304Z",
     "iopub.status.busy": "2022-09-26T17:04:36.852945Z",
     "iopub.status.idle": "2022-09-26T17:04:36.870074Z",
     "shell.execute_reply": "2022-09-26T17:04:36.869038Z",
     "shell.execute_reply.started": "2022-09-26T17:04:36.853270Z"
    }
   },
   "outputs": [
    {
     "name": "stdout",
     "output_type": "stream",
     "text": [
      "Model: \"sequential\"\n",
      "_________________________________________________________________\n",
      " Layer (type)                Output Shape              Param #   \n",
      "=================================================================\n",
      " inception_v3 (Functional)   (None, 8, 8, 2048)        21802784  \n",
      "                                                                 \n",
      " global_average_pooling2d (G  (None, 2048)             0         \n",
      " lobalAveragePooling2D)                                          \n",
      "                                                                 \n",
      " dropout (Dropout)           (None, 2048)              0         \n",
      "                                                                 \n",
      " dense (Dense)               (None, 1024)              2098176   \n",
      "                                                                 \n",
      " dense_1 (Dense)             (None, 131)               134275    \n",
      "                                                                 \n",
      "=================================================================\n",
      "Total params: 24,035,235\n",
      "Trainable params: 2,232,451\n",
      "Non-trainable params: 21,802,784\n",
      "_________________________________________________________________\n"
     ]
    }
   ],
   "source": [
    "# Viewing the summary of the model\n",
    "model.summary()"
   ]
  },
  {
   "cell_type": "markdown",
   "metadata": {},
   "source": [
    "# **Seperating Train and Test Data**"
   ]
  },
  {
   "cell_type": "code",
   "execution_count": 9,
   "metadata": {
    "execution": {
     "iopub.execute_input": "2022-09-26T17:04:36.872456Z",
     "iopub.status.busy": "2022-09-26T17:04:36.871132Z",
     "iopub.status.idle": "2022-09-26T17:04:36.880372Z",
     "shell.execute_reply": "2022-09-26T17:04:36.879417Z",
     "shell.execute_reply.started": "2022-09-26T17:04:36.872419Z"
    }
   },
   "outputs": [],
   "source": [
    "# Setting variables for the model\n",
    "batch_size = 512\n",
    "epochs = 5\n",
    "\n",
    "# Seperating Training and Testing Data\n",
    "train_generator = datagenerator[\"train\"]\n",
    "valid_generator = datagenerator[\"valid\"]"
   ]
  },
  {
   "cell_type": "code",
   "execution_count": 10,
   "metadata": {
    "execution": {
     "iopub.execute_input": "2022-09-26T17:04:36.882305Z",
     "iopub.status.busy": "2022-09-26T17:04:36.881918Z",
     "iopub.status.idle": "2022-09-26T17:04:36.892213Z",
     "shell.execute_reply": "2022-09-26T17:04:36.891029Z",
     "shell.execute_reply.started": "2022-09-26T17:04:36.882271Z"
    }
   },
   "outputs": [
    {
     "name": "stdout",
     "output_type": "stream",
     "text": [
      "steps_per_epoch : 119\n",
      "validation_steps : 4\n"
     ]
    }
   ],
   "source": [
    "# Calculating variables for the model\n",
    "steps_per_epoch = train_generator.n // batch_size\n",
    "validation_steps = valid_generator.n // batch_size\n",
    "\n",
    "print(\"steps_per_epoch :\", steps_per_epoch)\n",
    "print(\"validation_steps :\", validation_steps)"
   ]
  },
  {
   "cell_type": "markdown",
   "metadata": {},
   "source": [
    "# **Using the ModelCheckpoint**"
   ]
  },
  {
   "cell_type": "code",
   "execution_count": 11,
   "metadata": {
    "execution": {
     "iopub.execute_input": "2022-09-26T17:04:36.896123Z",
     "iopub.status.busy": "2022-09-26T17:04:36.895762Z",
     "iopub.status.idle": "2022-09-26T17:04:36.903722Z",
     "shell.execute_reply": "2022-09-26T17:04:36.902714Z",
     "shell.execute_reply.started": "2022-09-26T17:04:36.896087Z"
    }
   },
   "outputs": [],
   "source": [
    "# File Path to store the trained models\n",
    "filepath = \"./CNN-Models/model_{epoch:02d}-{val_accuracy:.2f}.h5\"\n",
    "\n",
    "# Using the ModelCheckpoint function to train and store all the best models\n",
    "checkpoint1 = ModelCheckpoint(filepath, monitor='val_accuracy', verbose=1, save_best_only=True, mode='max')\n",
    "\n",
    "callbacks_list = [checkpoint1]"
   ]
  },
  {
   "cell_type": "code",
   "execution_count": null,
   "metadata": {
    "execution": {
     "iopub.execute_input": "2022-09-26T17:04:36.905607Z",
     "iopub.status.busy": "2022-09-26T17:04:36.905232Z",
     "iopub.status.idle": "2022-09-26T17:44:06.466835Z",
     "shell.execute_reply": "2022-09-26T17:44:06.465646Z",
     "shell.execute_reply.started": "2022-09-26T17:04:36.905554Z"
    },
    "jupyter": {
     "outputs_hidden": true
    }
   },
   "outputs": [
    {
     "name": "stdout",
     "output_type": "stream",
     "text": [
      "Epoch 1/5\n",
      "119/119 [==============================] - ETA: 0s - loss: 4.2393 - accuracy: 0.1665\n",
      "Epoch 1: val_accuracy improved from -inf to 0.28125, saving model to ./CNN-Models\\model_01-0.28.h5\n",
      "119/119 [==============================] - 144s 1s/step - loss: 4.2393 - accuracy: 0.1665 - val_loss: 3.4439 - val_accuracy: 0.2812\n",
      "Epoch 2/5\n",
      " 18/119 [===>..........................] - ETA: 1:59 - loss: 3.2487 - accuracy: 0.3646"
     ]
    }
   ],
   "source": [
    "# Training the Model\n",
    "history = model.fit_generator(generator=train_generator, epochs=epochs, steps_per_epoch=steps_per_epoch,\n",
    "                              validation_data=valid_generator, validation_steps=validation_steps,\n",
    "                              callbacks=callbacks_list)"
   ]
  },
  {
   "cell_type": "markdown",
   "metadata": {},
   "source": [
    "# **Plot final training metrics**"
   ]
  },
  {
   "cell_type": "code",
   "execution_count": null,
   "metadata": {
    "execution": {
     "iopub.execute_input": "2022-09-26T17:44:08.334195Z",
     "iopub.status.busy": "2022-09-26T17:44:08.333488Z",
     "iopub.status.idle": "2022-09-26T17:44:08.700782Z",
     "shell.execute_reply": "2022-09-26T17:44:08.699863Z",
     "shell.execute_reply.started": "2022-09-26T17:44:08.334156Z"
    }
   },
   "outputs": [],
   "source": [
    "acc = history.history['accuracy']\n",
    "val_acc = history.history['val_accuracy']\n",
    "\n",
    "loss = history.history['loss']\n",
    "val_loss = history.history['val_loss']\n",
    "\n",
    "# ________________ Graph 1 -------------------------\n",
    "\n",
    "plt.figure(figsize=(8, 8))\n",
    "plt.subplot(2, 1, 1)\n",
    "plt.plot(acc, label='Training Accuracy')\n",
    "plt.plot(val_acc, label='Validation Accuracy')\n",
    "plt.legend(loc='lower right')\n",
    "plt.ylabel('Accuracy')\n",
    "plt.ylim([min(plt.ylim()),1])\n",
    "plt.title('Training and Validation Accuracy')\n",
    "\n",
    "# ________________ Graph 2 -------------------------\n",
    "\n",
    "plt.subplot(2, 1, 2)\n",
    "plt.plot(loss, label='Training Loss')\n",
    "plt.plot(val_loss, label='Validation Loss')\n",
    "plt.legend(loc='upper right')\n",
    "plt.ylabel('Cross Entropy')\n",
    "plt.ylim([0,max(plt.ylim())])\n",
    "plt.title('Training and Validation Loss')\n",
    "plt.show()"
   ]
  },
  {
   "cell_type": "markdown",
   "metadata": {},
   "source": [
    "# **Test the final model**"
   ]
  },
  {
   "cell_type": "code",
   "execution_count": null,
   "metadata": {
    "execution": {
     "iopub.execute_input": "2022-09-26T17:44:32.397200Z",
     "iopub.status.busy": "2022-09-26T17:44:32.396489Z",
     "iopub.status.idle": "2022-09-26T17:44:53.061851Z",
     "shell.execute_reply": "2022-09-26T17:44:53.060739Z",
     "shell.execute_reply.started": "2022-09-26T17:44:32.397163Z"
    }
   },
   "outputs": [],
   "source": [
    "# Calculate the Loss and Accuracy on the Validation Data\n",
    "test_loss, test_acc = model.evaluate(valid_generator)\n",
    "print('test accuracy : ', test_acc)"
   ]
  }
 ],
 "metadata": {
  "kernelspec": {
   "display_name": "Python 3 (ipykernel)",
   "language": "python",
   "name": "python3"
  },
  "language_info": {
   "codemirror_mode": {
    "name": "ipython",
    "version": 3
   },
   "file_extension": ".py",
   "mimetype": "text/x-python",
   "name": "python",
   "nbconvert_exporter": "python",
   "pygments_lexer": "ipython3",
   "version": "3.9.12"
  }
 },
 "nbformat": 4,
 "nbformat_minor": 4
}
